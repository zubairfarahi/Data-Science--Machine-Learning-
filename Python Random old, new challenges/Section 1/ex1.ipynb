{
 "cells": [
  {
   "cell_type": "code",
   "execution_count": 10,
   "metadata": {},
   "outputs": [
    {
     "name": "stdout",
     "output_type": "stream",
     "text": [
      "[1, 2, 3, 4]\n",
      "[5, 6, 7]\n",
      "[1, 2, 3, 4, 5, 6, 7]\n",
      "[1, 2, 3, 4, 5, 6, 7]\n"
     ]
    }
   ],
   "source": [
    "\"\"\"\n",
    "Ex. 2: Modify the following piece of code so that when running, \n",
    "the result of the display should be the 2 concatenated lists. \n",
    "HINT: There are several ways you can do this. \n",
    "\"\"\"\n",
    "# Ii dam variabilei l1 ca si valoare o lista cu 4 elemente (1,2,3,4)\n",
    "# si variabilei l2 ca valoare o lista cu 4 elemente (5,6,7)\n",
    "l1 = [1, 2, 3, 4]\n",
    "l2 = [5, 6, 7]\n",
    "\n",
    "# Afisam listele l1 si l2 separat.\n",
    "# Pentru a vedea rezultatul, rulati acest script.\n",
    "l3 = l1 + l2\n",
    "print(l1)\n",
    "print(l2)\n",
    "print(l3)\n",
    "print([*l1, *l2])"
   ]
  },
  {
   "cell_type": "code",
   "execution_count": null,
   "metadata": {},
   "outputs": [],
   "source": []
  }
 ],
 "metadata": {
  "interpreter": {
   "hash": "8f4b5e14da60dc7448e053a7a0cdc6ba9a2f6bf7065e7bb57fe43c005d385add"
  },
  "kernelspec": {
   "display_name": "Python 3.8.8 64-bit ('base': conda)",
   "language": "python",
   "name": "python3"
  },
  "language_info": {
   "codemirror_mode": {
    "name": "ipython",
    "version": 3
   },
   "file_extension": ".py",
   "mimetype": "text/x-python",
   "name": "python",
   "nbconvert_exporter": "python",
   "pygments_lexer": "ipython3",
   "version": "3.8.8"
  },
  "orig_nbformat": 4
 },
 "nbformat": 4,
 "nbformat_minor": 2
}
