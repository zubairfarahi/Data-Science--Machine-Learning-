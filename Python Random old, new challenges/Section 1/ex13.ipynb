{
 "cells": [
  {
   "cell_type": "code",
   "execution_count": 4,
   "metadata": {},
   "outputs": [
    {
     "name": "stdout",
     "output_type": "stream",
     "text": [
      "nter\n"
     ]
    }
   ],
   "source": [
    "\n",
    "\"\"\"\n",
    "    You will receive a string from the keyboard.\n",
    "    You will receive two integers from the keyboard, x, y.\n",
    "    You will need to print the substring from index x to index y (inclusive).\n",
    "    example:\n",
    "        You will receive: 'Center for Intelligent Machines', 2, 5\n",
    "        You will print: 'nter'\n",
    "\"\"\"\n",
    "val = input()\n",
    "x, y = [int(input()), int(input())]\n",
    "print(val[x:y + 1])"
   ]
  },
  {
   "cell_type": "code",
   "execution_count": null,
   "metadata": {},
   "outputs": [],
   "source": []
  }
 ],
 "metadata": {
  "interpreter": {
   "hash": "8f4b5e14da60dc7448e053a7a0cdc6ba9a2f6bf7065e7bb57fe43c005d385add"
  },
  "kernelspec": {
   "display_name": "Python 3.8.8 64-bit ('base': conda)",
   "language": "python",
   "name": "python3"
  },
  "language_info": {
   "codemirror_mode": {
    "name": "ipython",
    "version": 3
   },
   "file_extension": ".py",
   "mimetype": "text/x-python",
   "name": "python",
   "nbconvert_exporter": "python",
   "pygments_lexer": "ipython3",
   "version": "3.8.8"
  },
  "orig_nbformat": 4
 },
 "nbformat": 4,
 "nbformat_minor": 2
}
