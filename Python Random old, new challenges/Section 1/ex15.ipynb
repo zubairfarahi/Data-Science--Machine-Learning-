{
 "cells": [
  {
   "cell_type": "code",
   "execution_count": 2,
   "metadata": {},
   "outputs": [
    {
     "name": "stdout",
     "output_type": "stream",
     "text": [
      "{0: 'c', 1: 'm', 2: 'i'}\n"
     ]
    }
   ],
   "source": [
    "\"\"\"\n",
    "    You will receive a string from the keyboard.\n",
    "    You will receive an integer from the keyboard, x.\n",
    "    You will need to create a dictionary that contains all the numbers as keys\n",
    "    up to x, and as values ​​the characters on the corresponding indexes.\n",
    "    Remarks:\n",
    "        - the length of the string will always be equal to the number received\n",
    "        - indexing in python starts from 0 (the first key will be 0)\n",
    "    example:\n",
    "        You will receive: 'cmi', 3\n",
    "        You will print: {\n",
    "            0: 'c',\n",
    "            1: 'm',\n",
    "            2: 'i'\n",
    "        }\n",
    "\"\"\"\n",
    "\n",
    "val = input()\n",
    "x = int(input())\n",
    "dic = {}\n",
    "for x, val in zip(range(0, x), val):\n",
    "    dic[x] = val \n",
    "\n",
    "print(dic)"
   ]
  },
  {
   "cell_type": "code",
   "execution_count": null,
   "metadata": {},
   "outputs": [],
   "source": []
  }
 ],
 "metadata": {
  "interpreter": {
   "hash": "8f4b5e14da60dc7448e053a7a0cdc6ba9a2f6bf7065e7bb57fe43c005d385add"
  },
  "kernelspec": {
   "display_name": "Python 3.8.8 64-bit ('base': conda)",
   "language": "python",
   "name": "python3"
  },
  "language_info": {
   "codemirror_mode": {
    "name": "ipython",
    "version": 3
   },
   "file_extension": ".py",
   "mimetype": "text/x-python",
   "name": "python",
   "nbconvert_exporter": "python",
   "pygments_lexer": "ipython3",
   "version": "3.8.8"
  },
  "orig_nbformat": 4
 },
 "nbformat": 4,
 "nbformat_minor": 2
}
