{
 "cells": [
  {
   "cell_type": "code",
   "execution_count": 7,
   "metadata": {},
   "outputs": [
    {
     "name": "stdout",
     "output_type": "stream",
     "text": [
      "['cm', 'cente', 'fo', 'machine']\n"
     ]
    }
   ],
   "source": [
    "\"\"\"\n",
    "    You will receive strings from the keyboard until you receive the 'exit' string.\n",
    "    You will need to print a list of strings received without the last character\n",
    "    of each string.\n",
    "    Remarks:\n",
    "        - the length of the strings will always be at least 1\n",
    "    exemplu:\n",
    "        Veti primi: 'cmi', 'center', 'for', 'machines'\n",
    "        Veti printa: ['cm', 'cente', 'fo', 'machine']\n",
    "\"\"\"\n",
    "x = input() \n",
    "lst = []\n",
    "while(x != \"exit\"):\n",
    "    lst.append(x[:-1])\n",
    "    x = input() \n",
    "print(lst)"
   ]
  }
 ],
 "metadata": {
  "interpreter": {
   "hash": "8f4b5e14da60dc7448e053a7a0cdc6ba9a2f6bf7065e7bb57fe43c005d385add"
  },
  "kernelspec": {
   "display_name": "Python 3.8.8 64-bit ('base': conda)",
   "language": "python",
   "name": "python3"
  },
  "language_info": {
   "codemirror_mode": {
    "name": "ipython",
    "version": 3
   },
   "file_extension": ".py",
   "mimetype": "text/x-python",
   "name": "python",
   "nbconvert_exporter": "python",
   "pygments_lexer": "ipython3",
   "version": "3.8.8"
  },
  "orig_nbformat": 4
 },
 "nbformat": 4,
 "nbformat_minor": 2
}
