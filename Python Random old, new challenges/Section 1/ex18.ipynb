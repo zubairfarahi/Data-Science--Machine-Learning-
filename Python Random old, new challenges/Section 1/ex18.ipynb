{
 "cells": [
  {
   "cell_type": "code",
   "execution_count": 18,
   "metadata": {},
   "outputs": [
    {
     "name": "stdout",
     "output_type": "stream",
     "text": [
      "True\n"
     ]
    }
   ],
   "source": [
    "\"\"\"\n",
    "    You will receive a string from the keyboard.\n",
    "    You will need to tell if that string is a palindrome, using the data type\n",
    "    boolean (True, False)\n",
    "    Remarks:\n",
    "        - palindrome: the string reads the same from left to right,\n",
    "        and from right to left\n",
    "    exemplu:\n",
    "        Veti primi: 'center'\n",
    "        Veti printa: False\n",
    "        Veti primi: 'cojoc'\n",
    "        Veti printa: True\n",
    "\"\"\"\n",
    "val = input()\n",
    "print(val[::-1] == val)"
   ]
  },
  {
   "cell_type": "code",
   "execution_count": 16,
   "metadata": {},
   "outputs": [
    {
     "name": "stdout",
     "output_type": "stream",
     "text": [
      "False\n"
     ]
    }
   ],
   "source": []
  },
  {
   "cell_type": "code",
   "execution_count": null,
   "metadata": {},
   "outputs": [],
   "source": []
  }
 ],
 "metadata": {
  "interpreter": {
   "hash": "8f4b5e14da60dc7448e053a7a0cdc6ba9a2f6bf7065e7bb57fe43c005d385add"
  },
  "kernelspec": {
   "display_name": "Python 3.8.8 64-bit ('base': conda)",
   "language": "python",
   "name": "python3"
  },
  "language_info": {
   "codemirror_mode": {
    "name": "ipython",
    "version": 3
   },
   "file_extension": ".py",
   "mimetype": "text/x-python",
   "name": "python",
   "nbconvert_exporter": "python",
   "pygments_lexer": "ipython3",
   "version": "3.8.8"
  },
  "orig_nbformat": 4
 },
 "nbformat": 4,
 "nbformat_minor": 2
}
