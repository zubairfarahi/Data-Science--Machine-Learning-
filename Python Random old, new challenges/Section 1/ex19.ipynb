{
 "cells": [
  {
   "cell_type": "code",
   "execution_count": 12,
   "metadata": {},
   "outputs": [
    {
     "name": "stdout",
     "output_type": "stream",
     "text": [
      "False\n"
     ]
    }
   ],
   "source": [
    "\"\"\"\n",
    "    You will receive an integer from the keyboard.\n",
    "    You will need to tell if that number is a palindrome by using the data type\n",
    "    boolean (True, False)\n",
    "    Remarks:\n",
    "        - palindrome: the number is the same from left to right,\n",
    "        and from right to left\n",
    "    exemplu:\n",
    "        Veti primi: 12321\n",
    "        Veti printa: True\n",
    "        Veti primi: 1232\n",
    "        Veti printa: False\n",
    "\"\"\"\n",
    "\n",
    "x = int(input())\n",
    "x= str(x)\n",
    "print(x[::-1] == x[::])"
   ]
  },
  {
   "cell_type": "code",
   "execution_count": 10,
   "metadata": {},
   "outputs": [
    {
     "name": "stdout",
     "output_type": "stream",
     "text": [
      "True\n"
     ]
    }
   ],
   "source": []
  },
  {
   "cell_type": "code",
   "execution_count": null,
   "metadata": {},
   "outputs": [],
   "source": []
  }
 ],
 "metadata": {
  "interpreter": {
   "hash": "8f4b5e14da60dc7448e053a7a0cdc6ba9a2f6bf7065e7bb57fe43c005d385add"
  },
  "kernelspec": {
   "display_name": "Python 3.8.8 64-bit ('base': conda)",
   "language": "python",
   "name": "python3"
  },
  "language_info": {
   "codemirror_mode": {
    "name": "ipython",
    "version": 3
   },
   "file_extension": ".py",
   "mimetype": "text/x-python",
   "name": "python",
   "nbconvert_exporter": "python",
   "pygments_lexer": "ipython3",
   "version": "3.8.8"
  },
  "orig_nbformat": 4
 },
 "nbformat": 4,
 "nbformat_minor": 2
}
