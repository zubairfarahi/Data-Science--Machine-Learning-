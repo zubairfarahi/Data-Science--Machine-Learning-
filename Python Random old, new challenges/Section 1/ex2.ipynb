{
 "cells": [
  {
   "cell_type": "code",
   "execution_count": 2,
   "metadata": {},
   "outputs": [
    {
     "name": "stdout",
     "output_type": "stream",
     "text": [
      "['hi', 'by', 'exit']\n"
     ]
    }
   ],
   "source": [
    "\"\"\"\n",
    "    Ex. 3: Modify the following piece of code so that\n",
    "    when running, instead of stopping the items received from\n",
    "    keyboard in the list until we receive 'exit', we will stop when we receive 'stop'\n",
    "\"\"\"\n",
    "\n",
    "# We create a variable l1 that has the value of an empty list\n",
    "l1 = []\n",
    "\n",
    "# We take input from the keyboard and save it in the variable x\n",
    "x = input()\n",
    "\n",
    "# How long from the keyboard we do not receive exit as value\n",
    "while x != 'stop':\n",
    "# Add to the list the new item received from the keyboard\n",
    "    l1.append(x)\n",
    "    x = input()\n",
    "\n",
    "# Display list l1.\n",
    "print(l1)"
   ]
  },
  {
   "cell_type": "code",
   "execution_count": null,
   "metadata": {},
   "outputs": [],
   "source": []
  }
 ],
 "metadata": {
  "interpreter": {
   "hash": "8f4b5e14da60dc7448e053a7a0cdc6ba9a2f6bf7065e7bb57fe43c005d385add"
  },
  "kernelspec": {
   "display_name": "Python 3.8.8 64-bit ('base': conda)",
   "language": "python",
   "name": "python3"
  },
  "language_info": {
   "codemirror_mode": {
    "name": "ipython",
    "version": 3
   },
   "file_extension": ".py",
   "mimetype": "text/x-python",
   "name": "python",
   "nbconvert_exporter": "python",
   "pygments_lexer": "ipython3",
   "version": "3.8.8"
  },
  "orig_nbformat": 4
 },
 "nbformat": 4,
 "nbformat_minor": 2
}
