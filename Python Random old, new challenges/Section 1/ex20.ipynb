{
 "cells": [
  {
   "cell_type": "code",
   "execution_count": 7,
   "metadata": {},
   "outputs": [
    {
     "name": "stdout",
     "output_type": "stream",
     "text": [
      "[1, 2, 3, 4, 5, 5]\n",
      "{1, 2, 3, 4, 5}\n"
     ]
    }
   ],
   "source": [
    "\"\"\"\n",
    "    You will receive integer numbers from the keyboard until you receive the 'exit' string.\n",
    "    You will need to enter all the items in a list and display it afterwards\n",
    "    which you will need to create a set (see what a set is) from that list\n",
    "    and print that one too.\n",
    "    exemplu:\n",
    "        Veti primi: 1, 3, 4, 5, 5, 'exit'\n",
    "        Veti printa prima data: [1, 3, 4, 5, 5]\n",
    "        Veti prina a doua oara: {1, 3, 4, 5}\n",
    "\"\"\"\n",
    "\n",
    "x = input()\n",
    "lst = []\n",
    "while x != \"exit\":\n",
    "    lst.append(int(x))\n",
    "    x = input()\n",
    "print(lst)\n",
    "print(set(lst))"
   ]
  },
  {
   "cell_type": "code",
   "execution_count": null,
   "metadata": {},
   "outputs": [],
   "source": []
  }
 ],
 "metadata": {
  "interpreter": {
   "hash": "8f4b5e14da60dc7448e053a7a0cdc6ba9a2f6bf7065e7bb57fe43c005d385add"
  },
  "kernelspec": {
   "display_name": "Python 3.8.8 64-bit ('base': conda)",
   "language": "python",
   "name": "python3"
  },
  "language_info": {
   "codemirror_mode": {
    "name": "ipython",
    "version": 3
   },
   "file_extension": ".py",
   "mimetype": "text/x-python",
   "name": "python",
   "nbconvert_exporter": "python",
   "pygments_lexer": "ipython3",
   "version": "3.8.8"
  },
  "orig_nbformat": 4
 },
 "nbformat": 4,
 "nbformat_minor": 2
}
