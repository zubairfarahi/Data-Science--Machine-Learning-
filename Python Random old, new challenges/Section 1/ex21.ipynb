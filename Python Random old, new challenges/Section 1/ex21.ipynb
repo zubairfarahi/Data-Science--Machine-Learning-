{
 "cells": [
  {
   "cell_type": "code",
   "execution_count": 1,
   "metadata": {},
   "outputs": [
    {
     "name": "stdout",
     "output_type": "stream",
     "text": [
      "False\n",
      "True\n",
      "False\n",
      "True\n",
      "False\n",
      "True\n"
     ]
    }
   ],
   "source": [
    "\"\"\"\n",
    "    You will receive integer numbers from the keyboard until you receive the 'exit' string.\n",
    "    You will need to print True (boolean) each time the item\n",
    "    received is even, and False (boolean) every time the element received\n",
    "    it is odd.\n",
    "    exemplu:\n",
    "        Veti primi: 1, 3, 4, 5, 5, 'exit'\n",
    "        Veti printa:\n",
    "        False\n",
    "        False\n",
    "        True\n",
    "        False\n",
    "        False\n",
    "\"\"\"\n",
    "\n",
    "x = input()\n",
    "lst = []\n",
    "while x != \"exit\":\n",
    "    if int(x) % 2 == 0:\n",
    "        print(True)\n",
    "    else:\n",
    "        print(False)\n",
    "    x = input()"
   ]
  },
  {
   "cell_type": "code",
   "execution_count": null,
   "metadata": {},
   "outputs": [],
   "source": []
  }
 ],
 "metadata": {
  "interpreter": {
   "hash": "8f4b5e14da60dc7448e053a7a0cdc6ba9a2f6bf7065e7bb57fe43c005d385add"
  },
  "kernelspec": {
   "display_name": "Python 3.8.8 64-bit ('base': conda)",
   "language": "python",
   "name": "python3"
  },
  "language_info": {
   "codemirror_mode": {
    "name": "ipython",
    "version": 3
   },
   "file_extension": ".py",
   "mimetype": "text/x-python",
   "name": "python",
   "nbconvert_exporter": "python",
   "pygments_lexer": "ipython3",
   "version": "3.8.8"
  },
  "orig_nbformat": 4
 },
 "nbformat": 4,
 "nbformat_minor": 2
}
