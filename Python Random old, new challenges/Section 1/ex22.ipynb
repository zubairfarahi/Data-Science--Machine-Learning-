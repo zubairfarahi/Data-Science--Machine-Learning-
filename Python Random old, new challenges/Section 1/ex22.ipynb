{
 "cells": [
  {
   "cell_type": "code",
   "execution_count": 14,
   "metadata": {},
   "outputs": [
    {
     "name": "stdout",
     "output_type": "stream",
     "text": [
      "daaad\n"
     ]
    }
   ],
   "source": [
    "\"\"\"\n",
    "    You will receive an integer from the keyboard.\n",
    "    You will need to print a random string with the same number of characters\n",
    "    with the whole number received.\n",
    "    exemplu:\n",
    "        Veti primi: 5\n",
    "        Veti printa: 'ashdj' (poate fi orice alt string)\n",
    "\"\"\"\n",
    "\n",
    "import random\n",
    "x = int(input())\n",
    "al = \"abcdefghijklmnopqrsxtyz\"\n",
    "res = \"\"\n",
    "for i in range(0, x):\n",
    "    res += al[random.randrange(0, x)]\n",
    "\n",
    "print(res)"
   ]
  },
  {
   "cell_type": "code",
   "execution_count": 11,
   "metadata": {},
   "outputs": [
    {
     "name": "stdout",
     "output_type": "stream",
     "text": [
      "d\n"
     ]
    }
   ],
   "source": []
  },
  {
   "cell_type": "code",
   "execution_count": null,
   "metadata": {},
   "outputs": [],
   "source": []
  }
 ],
 "metadata": {
  "interpreter": {
   "hash": "8f4b5e14da60dc7448e053a7a0cdc6ba9a2f6bf7065e7bb57fe43c005d385add"
  },
  "kernelspec": {
   "display_name": "Python 3.8.8 64-bit ('base': conda)",
   "language": "python",
   "name": "python3"
  },
  "language_info": {
   "codemirror_mode": {
    "name": "ipython",
    "version": 3
   },
   "file_extension": ".py",
   "mimetype": "text/x-python",
   "name": "python",
   "nbconvert_exporter": "python",
   "pygments_lexer": "ipython3",
   "version": "3.8.8"
  },
  "orig_nbformat": 4
 },
 "nbformat": 4,
 "nbformat_minor": 2
}
