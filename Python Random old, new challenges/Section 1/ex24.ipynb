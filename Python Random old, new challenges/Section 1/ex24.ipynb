{
 "cells": [
  {
   "cell_type": "code",
   "execution_count": 1,
   "metadata": {},
   "outputs": [
    {
     "name": "stdout",
     "output_type": "stream",
     "text": [
      "2 4\n"
     ]
    }
   ],
   "source": [
    "\"\"\"\n",
    "    You will receive a string from the keyboard.\n",
    "    You will need to print the number of vowels and the number of consonants in\n",
    "    that string.\n",
    "    example:\n",
    "        Veti primi: 'center'\n",
    "        Veti printa:\n",
    "        2 (pentru vocale)\n",
    "        4 (pentru consoane)\n",
    "\"\"\"\n",
    "\n",
    "val  = input()\n",
    "v = 0\n",
    "c = 0\n",
    "for x in val:\n",
    "    if x in ['a','e','i','o','u']:\n",
    "        v += 1\n",
    "    else:\n",
    "        c += 1\n",
    "print(v, c)"
   ]
  },
  {
   "cell_type": "code",
   "execution_count": null,
   "metadata": {},
   "outputs": [],
   "source": []
  }
 ],
 "metadata": {
  "interpreter": {
   "hash": "8f4b5e14da60dc7448e053a7a0cdc6ba9a2f6bf7065e7bb57fe43c005d385add"
  },
  "kernelspec": {
   "display_name": "Python 3.8.8 64-bit ('base': conda)",
   "language": "python",
   "name": "python3"
  },
  "language_info": {
   "codemirror_mode": {
    "name": "ipython",
    "version": 3
   },
   "file_extension": ".py",
   "mimetype": "text/x-python",
   "name": "python",
   "nbconvert_exporter": "python",
   "pygments_lexer": "ipython3",
   "version": "3.8.8"
  },
  "orig_nbformat": 4
 },
 "nbformat": 4,
 "nbformat_minor": 2
}
