{
 "cells": [
  {
   "cell_type": "code",
   "execution_count": 13,
   "metadata": {},
   "outputs": [
    {
     "name": "stdout",
     "output_type": "stream",
     "text": [
      "True\n"
     ]
    }
   ],
   "source": [
    "\"\"\"\n",
    "    You will receive a string from the keyboard, which is a sequence of\n",
    "    round, straight and bracketed brackets. You will have to tell if the parentheses\n",
    "    are closed correctly or not. (boolean - True | False)\n",
    "    exemplu:\n",
    "        Veti primi: '(([])){}'\n",
    "        Veti printa: True\n",
    "        Veti primi: '(()]'\n",
    "        Veti printa: False\n",
    "\"\"\"\n",
    "\n",
    "my_str = input(\"String for solution 1\\n\")\n",
    "\n",
    "opened = ['(', '[', '{']\n",
    "closed = [')', ']', '}']\n",
    "\n",
    "stack = []\n",
    "flag = 0\n",
    "for character in my_str:\n",
    "    if character in opened:\n",
    "        stack.append(character)\n",
    "    else:\n",
    "        idx = closed.index(character)\n",
    "        if opened[idx] in stack:\n",
    "            stack.remove(opened[idx])\n",
    "        else:\n",
    "            flag = 1\n",
    "            break\n",
    "\n",
    "if stack or flag == 1:\n",
    "    print(False)\n",
    "else:\n",
    "    print(True)\n",
    "\n"
   ]
  },
  {
   "cell_type": "code",
   "execution_count": 12,
   "metadata": {},
   "outputs": [
    {
     "data": {
      "text/plain": [
       "2"
      ]
     },
     "execution_count": 12,
     "metadata": {},
     "output_type": "execute_result"
    }
   ],
   "source": []
  },
  {
   "cell_type": "code",
   "execution_count": null,
   "metadata": {},
   "outputs": [],
   "source": []
  }
 ],
 "metadata": {
  "interpreter": {
   "hash": "8f4b5e14da60dc7448e053a7a0cdc6ba9a2f6bf7065e7bb57fe43c005d385add"
  },
  "kernelspec": {
   "display_name": "Python 3.8.8 64-bit ('base': conda)",
   "language": "python",
   "name": "python3"
  },
  "language_info": {
   "codemirror_mode": {
    "name": "ipython",
    "version": 3
   },
   "file_extension": ".py",
   "mimetype": "text/x-python",
   "name": "python",
   "nbconvert_exporter": "python",
   "pygments_lexer": "ipython3",
   "version": "3.8.8"
  },
  "orig_nbformat": 4
 },
 "nbformat": 4,
 "nbformat_minor": 2
}
