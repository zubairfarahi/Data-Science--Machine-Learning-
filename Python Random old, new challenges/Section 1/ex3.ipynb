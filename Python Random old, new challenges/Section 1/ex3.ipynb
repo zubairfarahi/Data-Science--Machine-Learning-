{
 "cells": [
  {
   "cell_type": "code",
   "execution_count": 2,
   "metadata": {},
   "outputs": [
    {
     "name": "stdout",
     "output_type": "stream",
     "text": [
      "[1, 2, 2, 3, 4, 5]\n"
     ]
    }
   ],
   "source": [
    "\"\"\"\n",
    "    \n",
    "Ex. 4: Modify the following piece of code so that\n",
    "    when running, the resulting list should be [1, 2, 2, 3, 4, 5]\n",
    "\"\"\"\n",
    "\n",
    "# In the variable t1 we will store a tuple with 2 elements, 1 and 2\n",
    "# and in the variable t2 we will store a tuple with 3 elements 3, 4, 5\n",
    "t1 = (1, 2)\n",
    "t2 = (3, 4, 5)\n",
    "\n",
    "t1 = (*t1, 2)\n",
    "# We will create the variable l1 and as a value, it will have a list composed of\n",
    "# concatenation of the 2 tuples. The first elements will be those of l1.\n",
    "# We will convert the 2 tuples into lists before concatenating them\n",
    "l1 = list(t1) + list(t2)\n",
    "# Display the list\n",
    "\n",
    "print(l1)"
   ]
  },
  {
   "cell_type": "code",
   "execution_count": null,
   "metadata": {},
   "outputs": [],
   "source": []
  }
 ],
 "metadata": {
  "interpreter": {
   "hash": "8f4b5e14da60dc7448e053a7a0cdc6ba9a2f6bf7065e7bb57fe43c005d385add"
  },
  "kernelspec": {
   "display_name": "Python 3.8.8 64-bit ('base': conda)",
   "language": "python",
   "name": "python3"
  },
  "language_info": {
   "codemirror_mode": {
    "name": "ipython",
    "version": 3
   },
   "file_extension": ".py",
   "mimetype": "text/x-python",
   "name": "python",
   "nbconvert_exporter": "python",
   "pygments_lexer": "ipython3",
   "version": "3.8.8"
  },
  "orig_nbformat": 4
 },
 "nbformat": 4,
 "nbformat_minor": 2
}
