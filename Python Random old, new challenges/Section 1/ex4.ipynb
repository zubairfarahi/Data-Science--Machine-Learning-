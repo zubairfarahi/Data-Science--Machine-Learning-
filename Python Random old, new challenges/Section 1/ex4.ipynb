{
 "cells": [
  {
   "cell_type": "code",
   "execution_count": 12,
   "metadata": {},
   "outputs": [
    {
     "name": "stdout",
     "output_type": "stream",
     "text": [
      "1 : CMI\n",
      "2 : CMI2\n",
      "dict_keys([1, 2])\n"
     ]
    }
   ],
   "source": [
    "\"\"\"\n",
    "    Ex. 5: Modify the following piece of code so that\n",
    "    when running, display all d1 dictionary values\n",
    "\"\"\"\n",
    "\n",
    "# In variable d1 we will save the following dictionary:\n",
    "d1 = {\n",
    "    1: 'CMI',\n",
    "    2: 'CMI2'\n",
    "}\n",
    "\n",
    "for key, value in d1.items():\n",
    "    print(f\"{key} : {value}\")\n",
    "\n",
    "# Display all d1 dictionary keys using the keys () method\n",
    "print(d1.keys())"
   ]
  },
  {
   "cell_type": "code",
   "execution_count": null,
   "metadata": {},
   "outputs": [],
   "source": []
  }
 ],
 "metadata": {
  "interpreter": {
   "hash": "8f4b5e14da60dc7448e053a7a0cdc6ba9a2f6bf7065e7bb57fe43c005d385add"
  },
  "kernelspec": {
   "display_name": "Python 3.8.8 64-bit ('base': conda)",
   "language": "python",
   "name": "python3"
  },
  "language_info": {
   "codemirror_mode": {
    "name": "ipython",
    "version": 3
   },
   "file_extension": ".py",
   "mimetype": "text/x-python",
   "name": "python",
   "nbconvert_exporter": "python",
   "pygments_lexer": "ipython3",
   "version": "3.8.8"
  },
  "orig_nbformat": 4
 },
 "nbformat": 4,
 "nbformat_minor": 2
}
