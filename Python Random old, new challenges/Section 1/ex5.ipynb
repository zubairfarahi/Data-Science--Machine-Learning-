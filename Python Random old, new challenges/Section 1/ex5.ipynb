{
 "cells": [
  {
   "cell_type": "code",
   "execution_count": 2,
   "metadata": {},
   "outputs": [
    {
     "name": "stdout",
     "output_type": "stream",
     "text": [
      "[1, 2, 3, 4] ['a', 'b', 'c', 'd']\n",
      "{1: 'a', 2: 'b', 3: 'c', 4: 'd'}\n"
     ]
    }
   ],
   "source": [
    "\"\"\"\n",
    "Ex. 10: Modify the following piece of code so that\n",
    "    when running, print the d1 dictionary which will have the elements as keys\n",
    "    from l1 and as values, the elements from l2\n",
    "    The correct print response looks like this:\n",
    "    {\n",
    "        1: 'a',\n",
    "        2: 'b',\n",
    "        3: 'c',\n",
    "        4: 'd'\n",
    "    }\n",
    "\"\"\"\n",
    "\n",
    "# In variable l1 and l2 we have the following lists:\n",
    "l1 = [1, 2, 3, 4]\n",
    "l2 = ['a', 'b', 'c', 'd']\n",
    "\n",
    "# In the variable d1 we have an empty dictionary\n",
    "d1 = {}\n",
    "for key, value in zip(l1,l2):\n",
    "    d1[key] = value\n",
    "# We display lists l1 and l2\n",
    "print(l1, l2)\n",
    "print(d1)"
   ]
  },
  {
   "cell_type": "code",
   "execution_count": null,
   "metadata": {},
   "outputs": [],
   "source": []
  }
 ],
 "metadata": {
  "interpreter": {
   "hash": "8f4b5e14da60dc7448e053a7a0cdc6ba9a2f6bf7065e7bb57fe43c005d385add"
  },
  "kernelspec": {
   "display_name": "Python 3.8.8 64-bit ('base': conda)",
   "language": "python",
   "name": "python3"
  },
  "language_info": {
   "codemirror_mode": {
    "name": "ipython",
    "version": 3
   },
   "file_extension": ".py",
   "mimetype": "text/x-python",
   "name": "python",
   "nbconvert_exporter": "python",
   "pygments_lexer": "ipython3",
   "version": "3.8.8"
  },
  "orig_nbformat": 4
 },
 "nbformat": 4,
 "nbformat_minor": 2
}
