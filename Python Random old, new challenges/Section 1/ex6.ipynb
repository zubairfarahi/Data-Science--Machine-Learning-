{
 "cells": [
  {
   "cell_type": "code",
   "execution_count": 4,
   "metadata": {},
   "outputs": [
    {
     "name": "stdout",
     "output_type": "stream",
     "text": [
      "1\n",
      "3\n",
      "5\n"
     ]
    }
   ],
   "source": [
    "\"\"\"\n",
    "    You will receive input from the keyboard (input ()). By default, any input\n",
    "    from the keyboard is like data type str (string).\n",
    "    Your input will always be an integer, so you have to\n",
    "    convert to int, and once you have the input, you need to display them all\n",
    "    odd numbers up to that number.\n",
    "    example:\n",
    "        If you receive 6, you will display:\n",
    "        1\n",
    "        3\n",
    "        5\n",
    "        one number per line.\n",
    "\"\"\"\n",
    "\n",
    "x = int(input())\n",
    "for i in range(0, x):\n",
    "    if(i % 2 != 0):\n",
    "        print(i)\n"
   ]
  },
  {
   "cell_type": "code",
   "execution_count": null,
   "metadata": {},
   "outputs": [],
   "source": []
  }
 ],
 "metadata": {
  "interpreter": {
   "hash": "8f4b5e14da60dc7448e053a7a0cdc6ba9a2f6bf7065e7bb57fe43c005d385add"
  },
  "kernelspec": {
   "display_name": "Python 3.8.8 64-bit ('base': conda)",
   "language": "python",
   "name": "python3"
  },
  "language_info": {
   "codemirror_mode": {
    "name": "ipython",
    "version": 3
   },
   "file_extension": ".py",
   "mimetype": "text/x-python",
   "name": "python",
   "nbconvert_exporter": "python",
   "pygments_lexer": "ipython3",
   "version": "3.8.8"
  },
  "orig_nbformat": 4
 },
 "nbformat": 4,
 "nbformat_minor": 2
}
