{
 "cells": [
  {
   "cell_type": "code",
   "execution_count": 4,
   "metadata": {},
   "outputs": [
    {
     "name": "stdout",
     "output_type": "stream",
     "text": [
      "[1, 4, 9, 16]\n"
     ]
    }
   ],
   "source": [
    "\"\"\"\n",
    "    You will receive a keyboard input (integer). Using that input,\n",
    "    you will need to display a list of all items up to that number, if\n",
    "    that number is even, otherwise you will display a list of all the squares\n",
    "    numbers up to that number.\n",
    "    example:\n",
    "        You will receive 6, you will display [1, 2, 3, 4, 5]\n",
    "        You will receive 5, you will display [1, 4, 9, 16]\n",
    "\"\"\"\n",
    "val = int(input())\n",
    "if val % 2 != 0:\n",
    "    res = [x**2 for x in range(1, val)]\n",
    "    print(res)\n",
    "else:\n",
    "    res = [x for x in range(1, val)]\n",
    "    print(res)    "
   ]
  },
  {
   "cell_type": "code",
   "execution_count": null,
   "metadata": {},
   "outputs": [],
   "source": []
  }
 ],
 "metadata": {
  "interpreter": {
   "hash": "8f4b5e14da60dc7448e053a7a0cdc6ba9a2f6bf7065e7bb57fe43c005d385add"
  },
  "kernelspec": {
   "display_name": "Python 3.8.8 64-bit ('base': conda)",
   "language": "python",
   "name": "python3"
  },
  "language_info": {
   "codemirror_mode": {
    "name": "ipython",
    "version": 3
   },
   "file_extension": ".py",
   "mimetype": "text/x-python",
   "name": "python",
   "nbconvert_exporter": "python",
   "pygments_lexer": "ipython3",
   "version": "3.8.8"
  },
  "orig_nbformat": 4
 },
 "nbformat": 4,
 "nbformat_minor": 2
}
